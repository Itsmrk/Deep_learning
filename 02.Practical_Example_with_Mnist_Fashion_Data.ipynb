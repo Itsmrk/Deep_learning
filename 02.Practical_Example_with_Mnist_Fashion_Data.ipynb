{
  "nbformat": 4,
  "nbformat_minor": 0,
  "metadata": {
    "colab": {
      "name": "02.Practical_Example_with_Mnist_Fashion_Data.ipynb",
      "provenance": [],
      "authorship_tag": "ABX9TyMW2ODuIwABMC+exzKnJB5Q",
      "include_colab_link": true
    },
    "kernelspec": {
      "name": "python3",
      "display_name": "Python 3"
    }
  },
  "cells": [
    {
      "cell_type": "markdown",
      "metadata": {
        "id": "view-in-github",
        "colab_type": "text"
      },
      "source": [
        "<a href=\"https://colab.research.google.com/github/Itsmrk/Deep_learning/blob/master/02.Practical_Example_with_Mnist_Fashion_Data.ipynb\" target=\"_parent\"><img src=\"https://colab.research.google.com/assets/colab-badge.svg\" alt=\"Open In Colab\"/></a>"
      ]
    },
    {
      "cell_type": "code",
      "metadata": {
        "id": "gOZKCHrxaiJx",
        "colab_type": "code",
        "outputId": "0d56a694-b4b0-4bf5-9ec1-4ad51bb08c32",
        "colab": {
          "base_uri": "https://localhost:8080/",
          "height": 357
        }
      },
      "source": [
        "import tensorflow as tf\n",
        "\n",
        "mnist = tf.keras.datasets.fashion_mnist\n",
        "\n",
        "(training_images , training_labels),(test_images , test_labels) = mnist.load_data()\n",
        "\n",
        "training_images = training_images / 255.0\n",
        "test_images = test_images / 255.0 \n",
        "\n",
        "model = tf.keras.models.Sequential([tf.keras.layers.Flatten(), # Flatten convert 2d/3d to 1d , vector\n",
        "                                   tf.keras.layers.Dense(512 , activation=tf.nn.relu), # output of 1st layer become input off 2nd layer , relu if no. are grater then zero it return number other wise it changes all the numbers  to zero\n",
        "                                   tf.keras.layers.Dense(10 , activation=tf.nn.softmax)]) # Multi classification softmax , Sum all numbers & return probabality \n",
        "\n",
        "model.compile(optimizer = tf.keras.optimizers.Adam(),\n",
        "              loss = 'sparse_categorical_crossentropy',\n",
        "              metrics = ['accuracy'])\n",
        "model.fit(training_images, training_labels , epochs=5 , batch_size = 128)\n",
        "\n",
        "model.evaluate(test_images , test_labels)\n"
      ],
      "execution_count": 1,
      "outputs": [
        {
          "output_type": "stream",
          "text": [
            "Downloading data from https://storage.googleapis.com/tensorflow/tf-keras-datasets/train-labels-idx1-ubyte.gz\n",
            "32768/29515 [=================================] - 0s 0us/step\n",
            "Downloading data from https://storage.googleapis.com/tensorflow/tf-keras-datasets/train-images-idx3-ubyte.gz\n",
            "26427392/26421880 [==============================] - 1s 0us/step\n",
            "Downloading data from https://storage.googleapis.com/tensorflow/tf-keras-datasets/t10k-labels-idx1-ubyte.gz\n",
            "8192/5148 [===============================================] - 0s 0us/step\n",
            "Downloading data from https://storage.googleapis.com/tensorflow/tf-keras-datasets/t10k-images-idx3-ubyte.gz\n",
            "4423680/4422102 [==============================] - 0s 0us/step\n",
            "Epoch 1/5\n",
            "469/469 [==============================] - 3s 7ms/step - loss: 0.5050 - accuracy: 0.8242\n",
            "Epoch 2/5\n",
            "469/469 [==============================] - 3s 7ms/step - loss: 0.3718 - accuracy: 0.8672\n",
            "Epoch 3/5\n",
            "469/469 [==============================] - 3s 7ms/step - loss: 0.3315 - accuracy: 0.8795\n",
            "Epoch 4/5\n",
            "469/469 [==============================] - 3s 7ms/step - loss: 0.3067 - accuracy: 0.8871\n",
            "Epoch 5/5\n",
            "469/469 [==============================] - 3s 7ms/step - loss: 0.2880 - accuracy: 0.8938\n",
            "313/313 [==============================] - 1s 2ms/step - loss: 0.3493 - accuracy: 0.8745\n"
          ],
          "name": "stdout"
        },
        {
          "output_type": "execute_result",
          "data": {
            "text/plain": [
              "[0.34932276606559753, 0.8744999766349792]"
            ]
          },
          "metadata": {
            "tags": []
          },
          "execution_count": 1
        }
      ]
    },
    {
      "cell_type": "code",
      "metadata": {
        "id": "7bz8RI_4dthJ",
        "colab_type": "code",
        "colab": {}
      },
      "source": [
        ""
      ],
      "execution_count": 0,
      "outputs": []
    }
  ]
}